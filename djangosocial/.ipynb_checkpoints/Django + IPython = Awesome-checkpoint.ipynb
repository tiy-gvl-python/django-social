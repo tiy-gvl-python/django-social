{
 "cells": [
  {
   "cell_type": "code",
   "execution_count": 27,
   "metadata": {
    "collapsed": false
   },
   "outputs": [],
   "source": [
    "from facebookclone.models import Tag, Friend, Status, Like\n",
    "from django.contrib.auth.models import User"
   ]
  },
  {
   "cell_type": "markdown",
   "metadata": {},
   "source": [
    "Made Two Users:  Can only run this code once"
   ]
  },
  {
   "cell_type": "code",
   "execution_count": 11,
   "metadata": {
    "collapsed": false
   },
   "outputs": [],
   "source": [
    "User.objects.create_user('test', 'test@faces.com', 'asdf')\n",
    "User.objects.create_user('testfriend', 'testfriend@faces.com', 'asdf')\n",
    "User.objects.create_user('testfriend2', 'test@faces.com', 'asdf')"
   ]
  },
  {
   "cell_type": "markdown",
   "metadata": {},
   "source": [
    "I will find them..."
   ]
  },
  {
   "cell_type": "code",
   "execution_count": 28,
   "metadata": {
    "collapsed": false
   },
   "outputs": [
    {
     "name": "stdout",
     "output_type": "stream",
     "text": [
      "test testfriend testfriend2\n"
     ]
    }
   ],
   "source": [
    "test = User.objects.get(username=\"test\")\n",
    "testfriend = User.objects.get(username=\"testfriend\")\n",
    "testfriend2 = User.objects.get(username=\"testfriend2\")\n",
    "print(test, testfriend, testfriend2)"
   ]
  },
  {
   "cell_type": "markdown",
   "metadata": {},
   "source": [
    "Friendship"
   ]
  },
  {
   "cell_type": "code",
   "execution_count": 29,
   "metadata": {
    "collapsed": false
   },
   "outputs": [
    {
     "name": "stdout",
     "output_type": "stream",
     "text": [
      "testfriend\n"
     ]
    }
   ],
   "source": [
    "testfriendship = Friend.objects.create(user=test,friend=testfriend)\n",
    "testfriendship.save()\n",
    "print(testfriend)"
   ]
  },
  {
   "cell_type": "markdown",
   "metadata": {},
   "source": [
    "Status"
   ]
  },
  {
   "cell_type": "code",
   "execution_count": 30,
   "metadata": {
    "collapsed": false
   },
   "outputs": [
    {
     "name": "stdout",
     "output_type": "stream",
     "text": [
      "User: test - Status: EVERY BODY GET YOUR HANDS UP!!!!!!\n"
     ]
    }
   ],
   "source": [
    "teststatus = Status.objects.create(user=test, message=\"EVERY BODY GET YOUR HANDS UP!!!!!!\")\n",
    "teststatus.save()\n",
    "print(teststatus)"
   ]
  },
  {
   "cell_type": "markdown",
   "metadata": {},
   "source": [
    "Like it"
   ]
  },
  {
   "cell_type": "code",
   "execution_count": 31,
   "metadata": {
    "collapsed": false
   },
   "outputs": [
    {
     "name": "stdout",
     "output_type": "stream",
     "text": [
      "User: testfriend - Status Liked: User: test - Status: EVERY BODY GET YOUR HANDS UP!!!!!!\n"
     ]
    }
   ],
   "source": [
    "testlike = Like.objects.create(user=testfriend, status = teststatus)\n",
    "testlike.save()\n",
    "print(testlike)"
   ]
  },
  {
   "cell_type": "markdown",
   "metadata": {},
   "source": [
    "Comment on it"
   ]
  },
  {
   "cell_type": "code",
   "execution_count": 32,
   "metadata": {
    "collapsed": false
   },
   "outputs": [
    {
     "name": "stdout",
     "output_type": "stream",
     "text": [
      "User: testfriend - Status: YEA MAN!!!!!!!!\n"
     ]
    }
   ],
   "source": [
    "testcomment = Status.objects.create(user=testfriend, parent=teststatus, message=\"YEA MAN!!!!!!!!\")\n",
    "testcomment.save()\n",
    "print(testcomment)"
   ]
  },
  {
   "cell_type": "markdown",
   "metadata": {},
   "source": [
    "Tag your friends"
   ]
  },
  {
   "cell_type": "code",
   "execution_count": 33,
   "metadata": {
    "collapsed": false
   },
   "outputs": [
    {
     "name": "stdout",
     "output_type": "stream",
     "text": [
      "User: testfriend - Friend: testfriend2 - Tagged In: User: testfriend - Status: YEA MAN!!!!!!!!\n"
     ]
    }
   ],
   "source": [
    "testtag = Tag.objects.create(user=testfriend, tagged=testfriend2, status=testcomment)\n",
    "testtag.save()\n",
    "print(testtag)"
   ]
  },
  {
   "cell_type": "markdown",
   "metadata": {},
   "source": [
    "Lets Find Tests Friends"
   ]
  },
  {
   "cell_type": "code",
   "execution_count": 47,
   "metadata": {
    "collapsed": false
   },
   "outputs": [
    {
     "data": {
      "text/plain": [
       "[<Friend: User: test - Friend: testfriend>]"
      ]
     },
     "execution_count": 47,
     "metadata": {},
     "output_type": "execute_result"
    }
   ],
   "source": [
    "Friend.objects.filter(user=test)"
   ]
  },
  {
   "cell_type": "markdown",
   "metadata": {},
   "source": [
    "Did Test Make any Status Updates?"
   ]
  },
  {
   "cell_type": "code",
   "execution_count": 51,
   "metadata": {
    "collapsed": false
   },
   "outputs": [
    {
     "data": {
      "text/plain": [
       "[<Status: User: test - Status: EVERY BODY GET YOUR HANDS UP!!!!!!>]"
      ]
     },
     "execution_count": 51,
     "metadata": {},
     "output_type": "execute_result"
    }
   ],
   "source": [
    "Status.objects.filter(user=test)"
   ]
  },
  {
   "cell_type": "markdown",
   "metadata": {},
   "source": [
    "Hmmm wonder if anyone commented"
   ]
  },
  {
   "cell_type": "code",
   "execution_count": 65,
   "metadata": {
    "collapsed": true
   },
   "outputs": [],
   "source": [
    "finds = Status.objects.filter(user=test).values('id')[0][\"id\"]"
   ]
  },
  {
   "cell_type": "code",
   "execution_count": 66,
   "metadata": {
    "collapsed": false
   },
   "outputs": [
    {
     "data": {
      "text/plain": [
       "[<Status: User: testfriend - Status: YEA MAN!!!!!!!!>]"
      ]
     },
     "execution_count": 66,
     "metadata": {},
     "output_type": "execute_result"
    }
   ],
   "source": [
    "Status.objects.filter(parent=Status.objects.get(id=finds))"
   ]
  },
  {
   "cell_type": "markdown",
   "metadata": {},
   "source": [
    "Someone Probably liked it too"
   ]
  },
  {
   "cell_type": "code",
   "execution_count": 68,
   "metadata": {
    "collapsed": false
   },
   "outputs": [
    {
     "data": {
      "text/plain": [
       "[<Like: User: testfriend - Status Liked: User: test - Status: EVERY BODY GET YOUR HANDS UP!!!!!!>]"
      ]
     },
     "execution_count": 68,
     "metadata": {},
     "output_type": "execute_result"
    }
   ],
   "source": [
    "Like.objects.filter(status=finds)"
   ]
  },
  {
   "cell_type": "markdown",
   "metadata": {},
   "source": [
    "Wonder if anyone was tagged in that comment"
   ]
  },
  {
   "cell_type": "code",
   "execution_count": 70,
   "metadata": {
    "collapsed": false
   },
   "outputs": [],
   "source": [
    "findtags = Status.objects.filter(parent=finds).values('id')[0][\"id\"]"
   ]
  },
  {
   "cell_type": "code",
   "execution_count": 71,
   "metadata": {
    "collapsed": false
   },
   "outputs": [
    {
     "data": {
      "text/plain": [
       "[<Tag: User: testfriend - Friend: testfriend2 - Tagged In: User: testfriend - Status: YEA MAN!!!!!!!!>]"
      ]
     },
     "execution_count": 71,
     "metadata": {},
     "output_type": "execute_result"
    }
   ],
   "source": [
    "Tag.objects.filter(status=Status.objects.get(id=findtags))"
   ]
  },
  {
   "cell_type": "code",
   "execution_count": null,
   "metadata": {
    "collapsed": true
   },
   "outputs": [],
   "source": []
  }
 ],
 "metadata": {
  "kernelspec": {
   "display_name": "Django Shell-Plus",
   "language": "python",
   "name": "django_extensions"
  },
  "language_info": {
   "codemirror_mode": {
    "name": "ipython",
    "version": 3
   },
   "file_extension": ".py",
   "mimetype": "text/x-python",
   "name": "python",
   "nbconvert_exporter": "python",
   "pygments_lexer": "ipython3",
   "version": "3.4.3"
  }
 },
 "nbformat": 4,
 "nbformat_minor": 0
}
